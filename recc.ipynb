{
 "cells": [
  {
   "cell_type": "code",
   "execution_count": 2,
   "id": "d7177c03",
   "metadata": {},
   "outputs": [],
   "source": [
    "movies=pd.read_csv('/kaggle/input/top-rated-tmdb-movies-10k/top10K-TMDB-movies.csv')\n",
    "\n",
    "\n"
   ]
  },
  {
   "cell_type": "code",
   "execution_count": 4,
   "id": "0562913d",
   "metadata": {},
   "outputs": [
    {
     "name": "stdout",
     "output_type": "stream",
     "text": [
      "[[0 1 0 1 1 0 1 1 0 0]\n",
      " [1 0 1 2 1 0 1 0 0 0]\n",
      " [0 0 0 1 0 1 1 0 1 1]\n",
      " [1 0 0 1 1 0 1 1 0 0]]\n",
      "['ce' 'ceci' 'deuxième' 'document' 'est' 'et' 'le' 'premier' 'troisième'\n",
      " 'voici']\n"
     ]
    }
   ],
   "source": [
    "from sklearn.feature_extraction.text import CountVectorizer\n",
    "\n",
    "# Exemple de documents\n",
    "documents = [\"Ceci est le premier document.\",\n",
    "             \"Ce document est le deuxième document.\",\n",
    "             \"Et voici le troisième document.\",\n",
    "             \"Est-ce le premier document?\"]\n",
    "\n",
    "# Création de l'objet CountVectorizer\n",
    "vectorizer = CountVectorizer()\n",
    "\n",
    "# Transformation des documents en une matrice de comptage\n",
    "X = vectorizer.fit_transform(documents)\n",
    "\n",
    "# Affichage de la matrice de comptage\n",
    "print(X.toarray())\n",
    "\n",
    "# Affichage des noms des fonctionnalités (mots)\n",
    "print(vectorizer.get_feature_names_out())\n"
   ]
  },
  {
   "cell_type": "code",
   "execution_count": null,
   "id": "863f1d0d",
   "metadata": {},
   "outputs": [],
   "source": []
  }
 ],
 "metadata": {
  "kernelspec": {
   "display_name": "Python 3 (ipykernel)",
   "language": "python",
   "name": "python3"
  },
  "language_info": {
   "codemirror_mode": {
    "name": "ipython",
    "version": 3
   },
   "file_extension": ".py",
   "mimetype": "text/x-python",
   "name": "python",
   "nbconvert_exporter": "python",
   "pygments_lexer": "ipython3",
   "version": "3.11.5"
  }
 },
 "nbformat": 4,
 "nbformat_minor": 5
}
