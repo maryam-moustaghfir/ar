{
 "cells": [
  {
   "cell_type": "code",
   "execution_count": 20,
   "id": "dbfdd6bb",
   "metadata": {},
   "outputs": [
    {
     "name": "stderr",
     "output_type": "stream",
     "text": [
      "C:\\Users\\Maryam\\anaconda3\\Lib\\site-packages\\openpyxl\\styles\\stylesheet.py:226: UserWarning: Workbook contains no default style, apply openpyxl's default\n",
      "  warn(\"Workbook contains no default style, apply openpyxl's default\")\n"
     ]
    },
    {
     "name": "stdout",
     "output_type": "stream",
     "text": [
      "                country_name category  weekly_rank  \\\n",
      "226900  United Arab Emirates    Films            1   \n",
      "226901  United Arab Emirates    Films            2   \n",
      "226902  United Arab Emirates    Films            3   \n",
      "226903  United Arab Emirates    Films            4   \n",
      "226904  United Arab Emirates    Films            5   \n",
      "...                      ...      ...          ...   \n",
      "44215                Denmark       TV            6   \n",
      "44216                Denmark       TV            7   \n",
      "44217                Denmark       TV            8   \n",
      "44218                Denmark       TV            9   \n",
      "44219                Denmark       TV           10   \n",
      "\n",
      "                                     show_title  \n",
      "226900   Rebel Moon — Part One: A Child of Fire  \n",
      "226901                   Leave the World Behind  \n",
      "226902  Curry & Cyanide - The Jolly Joseph Case  \n",
      "226903          Chicken Run: Dawn of the Nugget  \n",
      "226904                           Shaolin Soccer  \n",
      "...                                         ...  \n",
      "44215                    A Nearly Normal Family  \n",
      "44216               Car Masters: Rust to Riches  \n",
      "44217         World War II: From the Frontlines  \n",
      "44218                               Dubai Bling  \n",
      "44219                           The Golden Hour  \n",
      "\n",
      "[400 rows x 4 columns]\n"
     ]
    }
   ],
   "source": [
    "import pandas as pd\n",
    "\n",
    "# Remplacez 'votre_nom_de_fichier.xlsx' par le nom réel de votre fichier Excel\n",
    "df = pd.read_excel('all-weeks-countries.xlsx')\n",
    "\n",
    "# Filtrer les données pour la semaine '2023-12-24'\n",
    "df_filtered = df[df['week'] == '2023-12-24']\n",
    "\n",
    "# Trier les données par rang hebdomadaire et par pays\n",
    "df_sorted = df_filtered.sort_values(by=['weekly_rank', 'country_iso2'])\n",
    "\n",
    "# Sélectionner les colonnes pertinentes pour l'affichage\n",
    "result_df = df_sorted[['country_name', 'category', 'weekly_rank', 'show_title', 'cumulative_weeks_in_top_10']]\n",
    "\n",
    "# Liste des 20 premiers pays au lieu de 5\n",
    "top_countries = df_sorted['country_name'].unique()[:20]\n",
    "\n",
    "# Créer un DataFrame vide pour stocker les résultats\n",
    "final_result_df = pd.DataFrame()\n",
    "\n",
    "# Itérer sur les 20 premiers pays\n",
    "for country in top_countries:\n",
    "    # Filtrer les données pour le pays spécifique et la catégorie 'Films'\n",
    "    country_films = result_df[(result_df['country_name'] == country) & (result_df['category'] == 'Films')].head(10)\n",
    "    \n",
    "    # Filtrer les données pour le pays spécifique et la catégorie 'TV'\n",
    "    country_tv = result_df[(result_df['country_name'] == country) & (result_df['category'] == 'TV')].head(10)\n",
    "    \n",
    "    # Ajouter les résultats au DataFrame final\n",
    "    final_result_df = pd.concat([final_result_df, country_films, country_tv])\n",
    "\n",
    "# Afficher les résultats\n",
    "print(final_result_df)\n",
    "\n",
    "# Sauvegarder le résultat dans un nouveau fichier Excel\n",
    "final_result_df.to_excel('top10_films_tv_par_20pays.xlsx', index=False)\n"
   ]
  },
  {
   "cell_type": "code",
   "execution_count": null,
   "id": "07d9a49b",
   "metadata": {},
   "outputs": [],
   "source": []
  },
  {
   "cell_type": "code",
   "execution_count": null,
   "id": "c82a3998",
   "metadata": {},
   "outputs": [],
   "source": []
  }
 ],
 "metadata": {
  "kernelspec": {
   "display_name": "Python 3 (ipykernel)",
   "language": "python",
   "name": "python3"
  },
  "language_info": {
   "codemirror_mode": {
    "name": "ipython",
    "version": 3
   },
   "file_extension": ".py",
   "mimetype": "text/x-python",
   "name": "python",
   "nbconvert_exporter": "python",
   "pygments_lexer": "ipython3",
   "version": "3.11.5"
  }
 },
 "nbformat": 4,
 "nbformat_minor": 5
}
